{
 "cells": [
  {
   "cell_type": "code",
   "execution_count": 1,
   "metadata": {
    "collapsed": true
   },
   "outputs": [
    {
     "data": {
      "text/plain": "   u_H    Y_H  K_S  K_OH  eta_g  K_NO  k_h   K_X  eta_h   f_p  ...  X_Pinf  \\\n0    6  0.666   20   0.2    0.8   0.5    3  0.03    0.4  0.08  ...       0   \n\n   v1_0  v_0     r_h   f_ns     r_P  ST_t  COD_law  TSS_law  N_law  \n0   274  410  0.0004  0.001  0.0025  2000      125       35     15  \n\n[1 rows x 59 columns]",
      "text/html": "<div>\n<style scoped>\n    .dataframe tbody tr th:only-of-type {\n        vertical-align: middle;\n    }\n\n    .dataframe tbody tr th {\n        vertical-align: top;\n    }\n\n    .dataframe thead th {\n        text-align: right;\n    }\n</style>\n<table border=\"1\" class=\"dataframe\">\n  <thead>\n    <tr style=\"text-align: right;\">\n      <th></th>\n      <th>u_H</th>\n      <th>Y_H</th>\n      <th>K_S</th>\n      <th>K_OH</th>\n      <th>eta_g</th>\n      <th>K_NO</th>\n      <th>k_h</th>\n      <th>K_X</th>\n      <th>eta_h</th>\n      <th>f_p</th>\n      <th>...</th>\n      <th>X_Pinf</th>\n      <th>v1_0</th>\n      <th>v_0</th>\n      <th>r_h</th>\n      <th>f_ns</th>\n      <th>r_P</th>\n      <th>ST_t</th>\n      <th>COD_law</th>\n      <th>TSS_law</th>\n      <th>N_law</th>\n    </tr>\n  </thead>\n  <tbody>\n    <tr>\n      <th>0</th>\n      <td>6</td>\n      <td>0.666</td>\n      <td>20</td>\n      <td>0.2</td>\n      <td>0.8</td>\n      <td>0.5</td>\n      <td>3</td>\n      <td>0.03</td>\n      <td>0.4</td>\n      <td>0.08</td>\n      <td>...</td>\n      <td>0</td>\n      <td>274</td>\n      <td>410</td>\n      <td>0.0004</td>\n      <td>0.001</td>\n      <td>0.0025</td>\n      <td>2000</td>\n      <td>125</td>\n      <td>35</td>\n      <td>15</td>\n    </tr>\n  </tbody>\n</table>\n<p>1 rows × 59 columns</p>\n</div>"
     },
     "execution_count": 1,
     "metadata": {},
     "output_type": "execute_result"
    }
   ],
   "source": [
    "import geneticalgorithm as geneticalgorithm\n",
    "import pandas as pd\n",
    "import numpy as np\n",
    "from IPython.core.display_functions import display\n",
    "\n",
    "\n",
    "def read_csv(path):\n",
    "    data = pd.read_csv(path, sep = ';', header=0)\n",
    "    return data\n",
    "\n",
    "\n",
    "dt=(read_csv('D:/Mestrado/2ano/Tese/code/param.csv'))\n",
    "dt\n",
    "# dt=pd.DataFrame(dt)\n",
    "# dt=dt.to_dict('index')\n",
    "# print(dt[0]['T'])\n",
    "\n",
    "\n"
   ]
  },
  {
   "cell_type": "code",
   "execution_count": 1,
   "outputs": [
    {
     "name": "stdout",
     "output_type": "stream",
     "text": [
      "{'u_H': 6, 'Y_H': 0.666, 'K_S': 20, 'K_OH': 0.2, 'eta_g': 0.8, 'K_NO': 0.5, 'k_h': 3, 'K_X': 0.03, 'eta_h': 0.4, 'f_p': 0.08, 'b_H': 0.62, 'b_A': 0.04, 'u_A': 0.8, 'K_NH': 1, 'K_OA': 0.4, 'Y_A': 0.24, 'i_XB': 0.086, 'k_a': 0.08, 'i_XP': 0.06, 'T': 20, 'P_O2': 0.21, 'beta': 0.95, 'fracO2': 0.21, 'alfa': 0.8, 'eta': 0.07, 'icv': 1.48, 'f_BOD': 0.66, 'IVLD': 150, 'SRT': 20, 'beta_TSS': 2, 'beta_COD': 1, 'beta_BOD': 2, 'beta_TKN': 20, 'beta_NO': 20, 'Qinf': 530, 'Q_P': 54, 'S_alkinf': 7, 'X_Iinf': 90, 'X_IIinf': 18.3, 'X_Sinf': 168.75, 'S_Sinf': 112.5, 'S_I': 12.5, 'S_Oinf': 0, 'S_NOinf': 0, 'S_NHinf': 11.7, 'S_NDinf': 0.63, 'X_NDinf': 1.251, 'X_BHinf': 0, 'X_BAinf': 0, 'X_Pinf': 0, 'v1_0': 274, 'v_0': 410, 'r_h': 0.0004, 'f_ns': 0.001, 'r_P': 0.0025, 'ST_t': 2000, 'COD_law': 125, 'TSS_law': 35, 'N_law': 15, 'dens': 455.80568000000005, 'TSSr_max': 8000.0, 'TSSr_max_p': 10000.0, 'Henry': 39860, 'SOST': 4.055722576815053, 'TKNinf': 18.980999999999998, 'Ninf': 18.980999999999998, 'Xinf': 258.75, 'Sinf': 125.0, 'CODinf': 383.75, 'VSSinf': 174.8310810810811, 'TSSinf': 193.1310810810811, 'BODinf': 185.625}\n",
      "[6, 0.666, 20, 0.2, 0.8, 0.5, 3, 0.03, 0.4, 0.08, 0.62, 0.04, 0.8, 1, 0.4, 0.24, 0.086, 0.08, 0.06, 20, 0.21, 0.95, 0.21, 0.8, 0.07, 1.48, 0.66, 150, 20, 2, 1, 2, 20, 20, 530, 54, 7, 90, 18.3, 168.75, 112.5, 12.5, 0, 0, 11.7, 0.63, 1.251, 0, 0, 0, 274, 410, 0.0004, 0.001, 0.0025, 2000, 125, 35, 15, 455.80568000000005, 8000.0, 10000.0, 39860, 4.055722576815053, 18.980999999999998, 18.980999999999998, 258.75, 125.0, 383.75, 174.8310810810811, 193.1310810810811, 185.625]\n"
     ]
    }
   ],
   "source": [
    "from pack.parameters import parameters"
   ],
   "metadata": {
    "collapsed": false
   }
  },
  {
   "cell_type": "code",
   "execution_count": 3,
   "outputs": [
    {
     "ename": "NameError",
     "evalue": "name 'u_H' is not defined",
     "output_type": "error",
     "traceback": [
      "\u001B[1;31m---------------------------------------------------------------------------\u001B[0m",
      "\u001B[1;31mNameError\u001B[0m                                 Traceback (most recent call last)",
      "Cell \u001B[1;32mIn [3], line 41\u001B[0m\n\u001B[0;32m     36\u001B[0m     BODinf \u001B[38;5;241m=\u001B[39m f_BOD \u001B[38;5;241m*\u001B[39m (S_Sinf \u001B[38;5;241m+\u001B[39m X_Sinf \u001B[38;5;241m+\u001B[39m X_BHinf \u001B[38;5;241m+\u001B[39m X_BAinf)\n\u001B[0;32m     38\u001B[0m     \u001B[38;5;28;01mreturn\u001B[39;00m u_H ,Y_H ,K_S ,K_OH ,eta_g ,K_NO ,k_h ,K_X ,eta_h ,f_p ,b_H ,b_A ,u_A ,K_NH ,K_OA ,Y_A ,i_XB ,k_a ,i_XP ,T ,P_O2 ,beta ,fracO2 ,alfa ,eta ,icv ,f_BOD ,IVLD ,SRT ,beta_TSS ,beta_COD ,beta_BOD ,beta_TKN ,beta_NO ,Qinf ,Q_P ,S_alkinf ,X_Iinf ,X_IIinf ,X_Sinf ,S_Sinf ,S_I ,S_Oinf ,S_NOinf ,S_NHinf ,S_NDinf ,X_NDinf ,X_BHinf ,X_BAinf ,X_Pinf ,v1_0 ,v_0 ,r_h ,f_ns ,r_P ,ST_t , COD_law , TSS_law , N_law\n\u001B[1;32m---> 41\u001B[0m \u001B[43mparameters\u001B[49m\u001B[43m(\u001B[49m\u001B[43mdt\u001B[49m\u001B[43m)\u001B[49m\n",
      "Cell \u001B[1;32mIn [3], line 38\u001B[0m, in \u001B[0;36mparameters\u001B[1;34m(data)\u001B[0m\n\u001B[0;32m     35\u001B[0m TSSinf \u001B[38;5;241m=\u001B[39m VSSinf \u001B[38;5;241m+\u001B[39m X_IIinf\n\u001B[0;32m     36\u001B[0m BODinf \u001B[38;5;241m=\u001B[39m f_BOD \u001B[38;5;241m*\u001B[39m (S_Sinf \u001B[38;5;241m+\u001B[39m X_Sinf \u001B[38;5;241m+\u001B[39m X_BHinf \u001B[38;5;241m+\u001B[39m X_BAinf)\n\u001B[1;32m---> 38\u001B[0m \u001B[38;5;28;01mreturn\u001B[39;00m \u001B[43mu_H\u001B[49m ,Y_H ,K_S ,K_OH ,eta_g ,K_NO ,k_h ,K_X ,eta_h ,f_p ,b_H ,b_A ,u_A ,K_NH ,K_OA ,Y_A ,i_XB ,k_a ,i_XP ,T ,P_O2 ,beta ,fracO2 ,alfa ,eta ,icv ,f_BOD ,IVLD ,SRT ,beta_TSS ,beta_COD ,beta_BOD ,beta_TKN ,beta_NO ,Qinf ,Q_P ,S_alkinf ,X_Iinf ,X_IIinf ,X_Sinf ,S_Sinf ,S_I ,S_Oinf ,S_NOinf ,S_NHinf ,S_NDinf ,X_NDinf ,X_BHinf ,X_BAinf ,X_Pinf ,v1_0 ,v_0 ,r_h ,f_ns ,r_P ,ST_t , COD_law , TSS_law , N_law\n",
      "\u001B[1;31mNameError\u001B[0m: name 'u_H' is not defined"
     ]
    }
   ],
   "source": [
    "def parameters(data):\n",
    "    data=data[0]\n",
    "    T=data['T']\n",
    "    IVLD = data['IVLD']\n",
    "    beta = data['beta']\n",
    "    P_O2 = data['P_O2']\n",
    "    S_NHinf = data['S_NHinf']\n",
    "    S_NDinf = data['S_NDinf']\n",
    "    X_NDinf  = data['X_NDinf']\n",
    "    i_XB = data['i_XB']\n",
    "    X_BHinf = data['X_BHinf']\n",
    "    X_BAinf = data['X_BAinf']\n",
    "    i_XP = data['i_XP']\n",
    "    X_Pinf = data['X_Pinf']\n",
    "    X_Iinf = data['X_Iinf']\n",
    "    S_NOinf = data['S_NOinf']\n",
    "    X_Sinf = data['X_Sinf']\n",
    "    S_I = data['S_I']\n",
    "    S_Sinf = data['S_Sinf']\n",
    "    icv = data['icv']\n",
    "    X_IIinf = data['X_IIinf']\n",
    "    f_BOD = data['f_BOD']\n",
    "\n",
    "    dens =999.96*(2.29e-2*T)-(5.44e-3*T**2)\n",
    "    TSSr_max =1200*1000/IVLD\n",
    "    TSSr_max_p =(1200/IVLD+2)*1000\n",
    "    Henry =(708*T)+25700\n",
    "    SOST =1777.8*beta*dens*P_O2/Henry\n",
    "    TKNinf = S_NHinf + S_NDinf + X_NDinf + i_XB * (X_BHinf + X_BAinf) + i_XP * (X_Pinf + X_Iinf)\n",
    "    Ninf =TKNinf + S_NOinf\n",
    "    Xinf = X_Iinf + X_Sinf + X_BHinf + X_BAinf + X_Pinf\n",
    "    Sinf = S_I + S_Sinf\n",
    "    CODinf = Xinf + Sinf\n",
    "    VSSinf = Xinf/icv\n",
    "    TSSinf = VSSinf + X_IIinf\n",
    "    BODinf = f_BOD * (S_Sinf + X_Sinf + X_BHinf + X_BAinf)\n",
    "\n",
    "    return u_H ,Y_H ,K_S ,K_OH ,eta_g ,K_NO ,k_h ,K_X ,eta_h ,f_p ,b_H ,b_A ,u_A ,K_NH ,K_OA ,Y_A ,i_XB ,k_a ,i_XP ,T ,P_O2 ,beta ,fracO2 ,alfa ,eta ,icv ,f_BOD ,IVLD ,SRT ,beta_TSS ,beta_COD ,beta_BOD ,beta_TKN ,beta_NO ,Qinf ,Q_P ,S_alkinf ,X_Iinf ,X_IIinf ,X_Sinf ,S_Sinf ,S_I ,S_Oinf ,S_NOinf ,S_NHinf ,S_NDinf ,X_NDinf ,X_BHinf ,X_BAinf ,X_Pinf ,v1_0 ,v_0 ,r_h ,f_ns ,r_P ,ST_t , COD_law , TSS_law , N_law\n",
    "\n",
    "\n",
    "parameters(dt)"
   ],
   "metadata": {
    "collapsed": false
   }
  },
  {
   "cell_type": "code",
   "execution_count": 6,
   "outputs": [
    {
     "data": {
      "text/plain": "({'u_H': 6,\n  'Y_H': 0.666,\n  'K_S': 20,\n  'K_OH': 0.2,\n  'eta_g': 0.8,\n  'K_NO': 0.5,\n  'k_h': 3,\n  'K_X': 0.03,\n  'eta_h': 0.4,\n  'f_p': 0.08,\n  'b_H': 0.62,\n  'b_A': 0.04,\n  'u_A': 0.8,\n  'K_NH': 1,\n  'K_OA': 0.4,\n  'Y_A': 0.24,\n  'i_XB': 0.086,\n  'k_a': 0.08,\n  'i_XP': 0.06,\n  'T': 20,\n  'P_O2': 0.21,\n  'beta': 0.95,\n  'fracO2': 0.21,\n  'alfa': 0.8,\n  'eta': 0.07,\n  'icv': 1.48,\n  'f_BOD': 0.66,\n  'IVLD': 150,\n  'SRT': 20,\n  'beta_TSS': 2,\n  'beta_COD': 1,\n  'beta_BOD': 2,\n  'beta_TKN': 20,\n  'beta_NO': 20,\n  'Qinf': 530,\n  'Q_P': 54,\n  'S_alkinf': 7,\n  'X_Iinf': 90,\n  'X_IIinf': 18.3,\n  'X_Sinf': 168.75,\n  'S_Sinf': 112.5,\n  'S_I': 12.5,\n  'S_Oinf': 0,\n  'S_NOinf': 0,\n  'S_NHinf': 11.7,\n  'S_NDinf': 0.63,\n  'X_NDinf': 1.251,\n  'X_BHinf': 0,\n  'X_BAinf': 0,\n  'X_Pinf': 0,\n  'v1_0': 274,\n  'v_0': 410,\n  'r_h': 0.0004,\n  'f_ns': 0.001,\n  'r_P': 0.0025,\n  'ST_t': 2000,\n  'COD_law': 125,\n  'TSS_law': 35,\n  'N_law': 15,\n  'dens': 455.80568000000005,\n  'TSSr_max': 8000.0,\n  'TSSr_max_p': 10000.0,\n  'Henry': 39860,\n  'SOST': 4.055722576815053,\n  'TKNinf': 18.980999999999998,\n  'Ninf': 18.980999999999998,\n  'Xinf': 258.75,\n  'Sinf': 125.0,\n  'CODinf': 383.75,\n  'VSSinf': 174.8310810810811,\n  'TSSinf': 193.1310810810811,\n  'BODinf': 185.625},\n 6)"
     },
     "execution_count": 6,
     "metadata": {},
     "output_type": "execute_result"
    }
   ],
   "source": [
    "def parameters(data, CSV: bool=True):\n",
    "\n",
    "    if CSV:\n",
    "        param={}\n",
    "        for j in data:\n",
    "                param[j]=data[j][0]\n",
    "    else:\n",
    "        param=data\n",
    "\n",
    "    param['dens']= 999.96*(2.29e-2*param['T'])-(5.44e-3*param['T']**2)\n",
    "    param['TSSr_max']= 1200*1000/param['IVLD']\n",
    "    param['TSSr_max_p']= (1200/param['IVLD']+2)*1000\n",
    "    param['Henry']= (708*param['T'])+25700\n",
    "    param['SOST']= 1777.8*param['beta']*param['dens']*param['P_O2']/param['Henry']\n",
    "    param['TKNinf']= param['S_NHinf'] + param['S_NDinf'] + param['X_NDinf'] + param['i_XB'] * (param['X_BHinf'] + param['X_BAinf']) + param['i_XP'] * (param['X_Pinf'] + param['X_Iinf'])\n",
    "    param['Ninf']= param['TKNinf'] + param['S_NOinf']\n",
    "    param['Xinf']= param['X_Iinf'] + param['X_Sinf'] + param['X_BHinf'] + param['X_BAinf'] + param['X_Pinf']\n",
    "    param['Sinf']= param['S_I'] + param['S_Sinf']\n",
    "    param['CODinf']= param['Xinf'] + param['Sinf']\n",
    "    param['VSSinf'] = param['Xinf']/param['icv']\n",
    "    param['TSSinf']= param['VSSinf'] + param['X_IIinf']\n",
    "    param['BODinf']= param['f_BOD'] * (param['S_Sinf'] + param['X_Sinf'] + param['X_BHinf'] + param['X_BAinf'])\n",
    "\n",
    "    globals().update(param)\n",
    "\n",
    "    return param\n",
    "\n",
    "\n",
    "parameters(dt)\n"
   ],
   "metadata": {
    "collapsed": false
   }
  },
  {
   "cell_type": "code",
   "execution_count": 10,
   "outputs": [],
   "source": [
    "# d={'T':1, 'A':3}\n",
    "# locals().update(d)\n",
    "# print(T)"
   ],
   "metadata": {
    "collapsed": false
   }
  },
  {
   "cell_type": "code",
   "execution_count": 3,
   "outputs": [
    {
     "ename": "TypeError",
     "evalue": "object of type 'NoneType' has no len()",
     "output_type": "error",
     "traceback": [
      "\u001B[1;31m---------------------------------------------------------------------------\u001B[0m",
      "\u001B[1;31mTypeError\u001B[0m                                 Traceback (most recent call last)",
      "Cell \u001B[1;32mIn [3], line 22\u001B[0m\n\u001B[0;32m     19\u001B[0m     \u001B[38;5;28;01mreturn\u001B[39;00m \u001B[38;5;28;01mNone\u001B[39;00m\n\u001B[0;32m     21\u001B[0m \u001B[38;5;66;03m# Define problem\u001B[39;00m\n\u001B[1;32m---> 22\u001B[0m problem \u001B[38;5;241m=\u001B[39m {\u001B[38;5;124m'\u001B[39m\u001B[38;5;124mfunction\u001B[39m\u001B[38;5;124m'\u001B[39m: cost_function, \u001B[38;5;124m'\u001B[39m\u001B[38;5;124mdimensions\u001B[39m\u001B[38;5;124m'\u001B[39m: \u001B[38;5;28;43mlen\u001B[39;49m\u001B[43m(\u001B[49m\u001B[43mLB\u001B[49m\u001B[43m)\u001B[49m, \u001B[38;5;124m'\u001B[39m\u001B[38;5;124mconstraint\u001B[39m\u001B[38;5;124m'\u001B[39m: constraints, \u001B[38;5;124m'\u001B[39m\u001B[38;5;124mlb\u001B[39m\u001B[38;5;124m'\u001B[39m: LB, \u001B[38;5;124m'\u001B[39m\u001B[38;5;124mub\u001B[39m\u001B[38;5;124m'\u001B[39m: UB}\n\u001B[0;32m     24\u001B[0m \u001B[38;5;66;03m# Define options\u001B[39;00m\n\u001B[0;32m     25\u001B[0m options \u001B[38;5;241m=\u001B[39m {\u001B[38;5;124m'\u001B[39m\u001B[38;5;124mmaxiter\u001B[39m\u001B[38;5;124m'\u001B[39m: \u001B[38;5;241m10000\u001B[39m, \u001B[38;5;124m'\u001B[39m\u001B[38;5;124mpopsize\u001B[39m\u001B[38;5;124m'\u001B[39m: \u001B[38;5;241m50\u001B[39m}\n",
      "\u001B[1;31mTypeError\u001B[0m: object of type 'NoneType' has no len()"
     ]
    }
   ],
   "source": [
    "import numpy as np\n",
    "from geneticalgorithm import geneticalgorithm as ga\n",
    "\n",
    "# Define initial values, parameters, and bounds\n",
    "initial_values = [4000.0, 100.0, 2000.0, 1900.0, 100.0, 1000.0, 1000.0, 2.0, 0.5, 0.5, 727.3, 950.571, '1,00E-05', 50.0, 10.0, 1.0, '1,00E-06', '1,00E-06', 0.2, 350.0, 711.2, '1,00E-05', 3000.0, 350.0, 806.714, '1,00E-05', '1,00E-05', '1,00E-06', 1.9e-06, '1,00E-05', 10.0, 7.5, 1500.0, 90.0, 174.52, '1,00E-05', 0.5, 0.5, 200.0, 20.0, 20.0, 0.5, 10000.0, 7.0, 7.0, 1500.0, 0.1, 3500.0, 10.0, 20.0, 40.0, 70.0, 200.0, 300.0, 350.0, 350.0, 2000.0, 4000.0, 21.0, 19.0, 7.941, 11.77, 15.92, 22.09, 34.25, 67.15, 179.1, 179.1, 179.1, 116.6, 0.08737, 0.1836, 0.3291, 0.6257, 1.505, 6.057, 59.05, 59.05, 59.06, 0.0, 3.5, 100.0, 1.0, 80.0, 50.0, 5000.0, 1000.0, 4440.0, '1,00E-04', 5500.0, 1600.0, 5500.0, 80.0, 3500.0, 1050.0, 3500.0, '1,00E-06', 5000.0, 1800.0, 5000.0, 10.0, 2000.0, 500.0, 2000.0, 30.0, 350.0, 106.0, 350.0, 10.0, 350.0, 106.0, 350.0, 15.0, 3.5, 2.0]\n",
    "\n",
    "parameters = [6, 0.666, 20, 0.2, 0.8, 0.5, 3, 0.03, 0.4, 0.08, 0.62, 0.04, 0.8, 1, 0.4, 0.24, 0.086, 0.08, 0.06, 20, 0.21, 0.95, 0.21, 0.8, 0.07, 1.48, 0.66, 150, 20, 2, 1, 2, 20, 20, 530, 54, 7, 90, 18.3, 168.75, 112.5, 12.5, 0, 0, 11.7, 0.63, 1.251, 0, 0, 0, 274, 410, 0.0004, 0.001, 0.0025, 2000, 125, 35, 15, 455.80568000000005, 8000.0, 10000.0, 39860, 4.055722576815053, 18.980999999999998, 18.980999999999998, 258.75, 125.0, 383.75, 174.8310810810811, 193.1310810810811, 185.625]\n",
    "\n",
    "LB = None\n",
    "UB = None\n",
    "\n",
    "# Define objective function and constraints\n",
    "def cost_function(X):\n",
    "    # define your objective function here\n",
    "    x = X.reshape(-1, 1)\n",
    "    return None, None\n",
    "\n",
    "def constraints(X):\n",
    "    # define your constraints here\n",
    "    x = X.reshape(-1, 1)\n",
    "    return None\n",
    "\n",
    "# Define problem\n",
    "problem = {'function': cost_function, 'dimensions': len(LB), 'constraint': constraints, 'lb': LB, 'ub': UB}\n",
    "\n",
    "# Define options\n",
    "options = {'maxiter': 10000, 'popsize': 50}\n",
    "\n",
    "# Create the genetic algorithm optimizer\n",
    "optimizer = ga(function=problem['function'], dimension=problem['dimensions'], variable_type='real', \\\n",
    "                variable_boundaries=[problem['lb'], problem['ub']], constraint_type='ineq', \\\n",
    "                constraint_function=problem['constraint'], algorithm_parameters=options)\n",
    "\n",
    "# Run optimization using Genetic Algorithm\n",
    "for i in range(10):\n",
    "    optimizer.run()\n",
    "    x = optimizer.output_dict['variable']\n",
    "    fx = optimizer.output_dict['function']\n",
    "    stats = optimizer.iterations\n",
    "    c = optimizer.output_dict['ineqconstraint']\n",
    "    ceq = None\n",
    "\n",
    "    # Save optimization results\n",
    "    sol = {'x': x, 'f': fx, 'nf': stats, 'c': c, 'ceq': ceq}\n",
    "\n",
    "    # Save optimization results to file\n",
    "    np.save('GA_WWTP_adapt.npy', sol)\n"
   ],
   "metadata": {
    "collapsed": false
   }
  },
  {
   "cell_type": "code",
   "execution_count": 4,
   "outputs": [
    {
     "ename": "TypeError",
     "evalue": "object of type 'NoneType' has no len()",
     "output_type": "error",
     "traceback": [
      "\u001B[1;31m---------------------------------------------------------------------------\u001B[0m",
      "\u001B[1;31mTypeError\u001B[0m                                 Traceback (most recent call last)",
      "Cell \u001B[1;32mIn [4], line 1\u001B[0m\n\u001B[1;32m----> 1\u001B[0m Problem\u001B[38;5;241m=\u001B[39m{\u001B[38;5;124m'\u001B[39m\u001B[38;5;124mVariables\u001B[39m\u001B[38;5;124m'\u001B[39m:\u001B[38;5;28;43mlen\u001B[39;49m\u001B[43m(\u001B[49m\u001B[43mLB\u001B[49m\u001B[43m)\u001B[49m,\u001B[38;5;124m'\u001B[39m\u001B[38;5;124mx0\u001B[39m\u001B[38;5;124m'\u001B[39m: np\u001B[38;5;241m.\u001B[39marray([\u001B[38;5;241m1\u001B[39m, \u001B[38;5;241m2\u001B[39m, \u001B[38;5;241m3\u001B[39m]),\u001B[38;5;124m'\u001B[39m\u001B[38;5;124mLB\u001B[39m\u001B[38;5;124m'\u001B[39m:np\u001B[38;5;241m.\u001B[39marray([\u001B[38;5;241m0\u001B[39m,\u001B[38;5;241m0\u001B[39m,\u001B[38;5;241m0\u001B[39m])}\n",
      "\u001B[1;31mTypeError\u001B[0m: object of type 'NoneType' has no len()"
     ]
    }
   ],
   "source": [
    "Problem={'Variables':len(LB),'x0': np.array([1, 2, 3]),'LB':np.array([0,0,0])}"
   ],
   "metadata": {
    "collapsed": false
   }
  },
  {
   "cell_type": "code",
   "execution_count": 10,
   "outputs": [
    {
     "data": {
      "text/plain": "0"
     },
     "execution_count": 10,
     "metadata": {},
     "output_type": "execute_result"
    }
   ],
   "source": [
    "Probl={'ObjFunction': 44}\n",
    "def lag(x):\n",
    "    f = x\n",
    "    return f\n",
    "\n",
    "Probl['ObjFunction'] = lag\n",
    "Probl['ObjFunction'] (0)"
   ],
   "metadata": {
    "collapsed": false
   }
  },
  {
   "cell_type": "code",
   "execution_count": 11,
   "outputs": [
    {
     "name": "stdout",
     "output_type": "stream",
     "text": [
      "The best stat for this problem is: 100\n"
     ]
    }
   ],
   "source": [
    "Problem = {\n",
    "    \"Title\": \"My Problem\",\n",
    "    \"Description\": \"This is my problem description.\",\n",
    "    \"Stats\": {\n",
    "        \"Best\": 100,\n",
    "        \"Worst\": 0,\n",
    "        \"Average\": 50\n",
    "    }\n",
    "}\n",
    "\n",
    "best_stat = Problem[\"Stats\"][\"Best\"]\n",
    "print(\"The best stat for this problem is:\", best_stat)\n"
   ],
   "metadata": {
    "collapsed": false
   }
  },
  {
   "cell_type": "code",
   "execution_count": 2,
   "outputs": [],
   "source": [
    "import random\n",
    "import numpy as np\n",
    "\n",
    "class Problem:\n",
    "    def __init__(self, Variables, ObjFunction, LB, UB):\n",
    "        self.Variables = Variables\n",
    "        self.ObjFunction = ObjFunction\n",
    "        self.LB = LB\n",
    "        self.UB = UB\n",
    "        self.Verbose = False\n",
    "        self.Tolerance = 1.0e-6\n",
    "        self.GenTest = 0.01\n",
    "        self.Stats = ProblemStatistics()\n",
    "\n",
    "class ProblemStatistics:\n",
    "    def __init__(self):\n",
    "        self.ObjFunCounter = 0\n",
    "        self.GenCounter = 0\n",
    "        self.Best = []\n",
    "        self.Worst = []\n",
    "        self.Mean = []\n",
    "        self.Std = []\n",
    "\n",
    "class Chromosome:\n",
    "    def __init__(self, x, f):\n",
    "        self.x = x\n",
    "        self.f = f\n",
    "\n",
    "def create_initial_population(problem, size):\n",
    "    population = []\n",
    "    for i in range(size):\n",
    "        x = []\n",
    "        for j in range(problem.Variables):\n",
    "            x.append(random.uniform(problem.LB[j], problem.UB[j]))\n",
    "        f = problem.ObjFunction(x)\n",
    "        chromosome = Chromosome(x, f)\n",
    "        population.append(chromosome)\n",
    "    return population\n",
    "\n",
    "def tournament_selection(population, k):\n",
    "    selected = random.sample(population, k)\n",
    "    return max(selected, key=lambda chromosome: chromosome.f)\n",
    "\n",
    "def crossover(parent1, parent2):\n",
    "    n = len(parent1.x)\n",
    "    child1 = Chromosome([0] * n, 0)\n",
    "    child2 = Chromosome([0] * n, 0)\n",
    "    crossover_point = random.randint(1, n-1)\n",
    "    child1.x[:crossover_point] = parent1.x[:crossover_point]\n",
    "    child1.x[crossover_point:] = parent2.x[crossover_point:]\n",
    "    child2.x[:crossover_point] = parent2.x[:crossover_point]\n",
    "    child2.x[crossover_point:] = parent1.x[crossover_point:]\n",
    "    return child1, child2\n",
    "\n",
    "def mutation(chromosome, problem, p):\n",
    "    for i in range(problem.Variables):\n",
    "        if random.random() < p:\n",
    "            chromosome.x[i] = random.uniform(problem.LB[i], problem.UB[i])\n",
    "    chromosome.f = problem.ObjFunction(chromosome.x)\n",
    "    return chromosome\n",
    "\n",
    "def genetic_algorithm(problem, size, generations, k, p_crossover, p_mutation):\n",
    "    population = create_initial_population(problem, size)\n",
    "    for i in range(generations):\n",
    "        offspring = []\n",
    "        for j in range(size):\n",
    "            parent1 = tournament_selection(population, k)\n",
    "            parent2 = tournament_selection(population, k)\n",
    "            if random.random() < p_crossover:\n",
    "                child1, child2 = crossover(parent1, parent2)\n",
    "                offspring.append(child1)\n",
    "                offspring.append(child2)\n",
    "            else:\n",
    "                offspring.append(parent1)\n",
    "                offspring.append(parent2)\n",
    "        for j in range(size):\n",
    "            offspring[j] = mutation(offspring[j], problem, p_mutation)\n",
    "        population = sorted(population + offspring, key=lambda chromosome: chromosome.f, reverse=True)[:size]\n",
    "        best_fitness = population[0].f\n",
    "        worst_fitness = population[-1].f\n",
    "        mean_fitness = np.mean([chromosome.f for chromosome in population])\n",
    "        std_fitness = np.std([chromosome.f for chromosome in population])\n",
    "        problem.Stats.Best.append(best_fitness)\n",
    "        problem.Stats.Worst.append(worst_fitness)\n",
    "        problem.Stats.Mean.append(mean_fitness)\n",
    "        problem.Stats.Std.append(std_fitness)\n",
    "        problem.Stats\n",
    "\n",
    "            # Initialize the population\n",
    "    Population = []\n",
    "    for i in range(PopSize):\n",
    "        x = LB + (UB - LB) * np.random.rand(nVar)\n",
    "        f = ObjFunction(x)\n",
    "        Population.append(Chromosome(x, f))\n",
    "\n",
    "    # Sort the population based on the objective function values\n",
    "    Population.sort(key=lambda c: c.f)\n",
    "\n",
    "    # Store the best and worst objective function values for the initial population\n",
    "    BestChrom = Population[0]\n",
    "    BestChromObj = BestChrom.f\n",
    "    WorstChrom = Population[-1]\n",
    "    WorstChromObj = WorstChrom.f\n",
    "\n",
    "    # Create a statistics object to keep track of the optimization progress\n",
    "    RunData = ProblemStatistics()\n",
    "    RunData.ObjFunCounter = PopSize\n",
    "    RunData.GenCounter = 0\n",
    "    RunData.Best.append(BestChromObj)\n",
    "    RunData.Worst.append(WorstChromObj)\n",
    "    RunData.Mean.append(np.mean([c.f for c in Population]))\n",
    "    RunData.Std.append(np.std([c.f for c in Population]))\n",
    "\n",
    "    # Start the optimization loop\n",
    "    while RunData.ObjFunCounter < MaxObjFun:\n",
    "        # Create a new population\n",
    "        NewPopulation = []\n",
    "        for i in range(PopSize):\n",
    "            # Select parents for reproduction using tournament selection\n",
    "            Parent1 = TournamentSelect(Population, TournamentSize)\n",
    "            Parent2 = TournamentSelect(Population, TournamentSize)\n",
    "            # Perform crossover to create a new offspring\n",
    "            Offspring = Crossover(Parent1, Parent2, CrossoverProb)\n",
    "            # Mutate the offspring\n",
    "            Offspring = Mutate(Offspring, MutateProb, LB, UB)\n",
    "            # Evaluate the offspring objective function\n",
    "            Offspring.f = ObjFunction(Offspring.x)\n",
    "            # Add the offspring to the new population\n",
    "            NewPopulation.append(Offspring)\n",
    "            RunData.ObjFunCounter += 1\n",
    "            if RunData.ObjFunCounter >= MaxObjFun:\n",
    "                break\n",
    "\n",
    "        # Merge the current and new populations\n",
    "        Population += NewPopulation\n",
    "\n",
    "        # Sort the combined population based on objective function values\n",
    "        Population.sort(key=lambda c: c.f)\n",
    "\n",
    "        # Select the top PopSize chromosomes for the next generation\n",
    "        Population = Population[:PopSize]\n",
    "\n",
    "        # Update the best and worst objective function values\n",
    "        if Population[0].f < BestChromObj:\n",
    "            BestChrom = Population[0]\n",
    "            BestChromObj = BestChrom.f\n",
    "        if Population[-1].f > WorstChromObj:\n",
    "            WorstChrom = Population[-1]\n",
    "            WorstChromObj = WorstChrom.f\n",
    "\n",
    "        # Store statistics for the current generation\n",
    "        RunData.GenCounter += 1\n",
    "        RunData.Best.append(BestChromObj)\n",
    "        RunData.Worst.append(WorstChromObj)\n",
    "        RunData.Mean.append(np.mean([c.f for c in Population]))\n",
    "        RunData.Std.append(np.std([c.f for c in Population]))\n",
    "\n",
    "        # Print progress information if Verbose is True\n",
    "        if Verbose:\n",
    "            print(f\"Generation: {RunData.GenCounter}, Best ObjFun: {BestChromObj}\")\n",
    "\n",
    "    # Return the best chromosome and optimization statistics\n",
    "    return BestChrom, RunData\n",
    "\n"
   ],
   "metadata": {
    "collapsed": false
   }
  },
  {
   "cell_type": "code",
   "execution_count": 4,
   "outputs": [
    {
     "ename": "TypeError",
     "evalue": "genetic_algorithm() missing 4 required positional arguments: 'generations', 'k', 'p_crossover', and 'p_mutation'",
     "output_type": "error",
     "traceback": [
      "\u001B[1;31m---------------------------------------------------------------------------\u001B[0m",
      "\u001B[1;31mTypeError\u001B[0m                                 Traceback (most recent call last)",
      "Cell \u001B[1;32mIn [4], line 11\u001B[0m\n\u001B[0;32m      5\u001B[0m problem \u001B[38;5;241m=\u001B[39m Problem(Variables\u001B[38;5;241m=\u001B[39m\u001B[38;5;241m2\u001B[39m, ObjFunction\u001B[38;5;241m=\u001B[39mobj_func, LB\u001B[38;5;241m=\u001B[39m[\u001B[38;5;241m-\u001B[39m\u001B[38;5;241m10\u001B[39m,\u001B[38;5;241m-\u001B[39m\u001B[38;5;241m10\u001B[39m], UB\u001B[38;5;241m=\u001B[39m[\u001B[38;5;241m10\u001B[39m,\u001B[38;5;241m10\u001B[39m])\n\u001B[0;32m      7\u001B[0m \u001B[38;5;66;03m# Define GA parameters\u001B[39;00m\n\u001B[0;32m      8\u001B[0m \u001B[38;5;66;03m# ga_params = GAParameters(PopulationSize=100, EliteRatio=0.1, MutationRate=0.01, MaxGenerations=100)\u001B[39;00m\n\u001B[0;32m      9\u001B[0m \n\u001B[0;32m     10\u001B[0m \u001B[38;5;66;03m# Run the genetic algorithm\u001B[39;00m\n\u001B[1;32m---> 11\u001B[0m best_chromosome, best_objective, run_data \u001B[38;5;241m=\u001B[39m \u001B[43mgenetic_algorithm\u001B[49m\u001B[43m(\u001B[49m\u001B[43mproblem\u001B[49m\u001B[43m,\u001B[49m\u001B[43m \u001B[49m\u001B[38;5;241;43m2\u001B[39;49m\u001B[43m)\u001B[49m\n",
      "\u001B[1;31mTypeError\u001B[0m: genetic_algorithm() missing 4 required positional arguments: 'generations', 'k', 'p_crossover', and 'p_mutation'"
     ]
    }
   ],
   "source": [
    "# Define the problem\n",
    "def obj_func(x):\n",
    "    return x[0]**2 + x[1]**2\n",
    "\n",
    "problem = Problem(Variables=2, ObjFunction=obj_func, LB=[-10,-10], UB=[10,10])\n",
    "\n",
    "# Define GA parameters\n",
    "# ga_params = GAParameters(PopulationSize=100, EliteRatio=0.1, MutationRate=0.01, MaxGenerations=100)\n",
    "\n",
    "# Run the genetic algorithm\n",
    "best_chromosome, best_objective, run_data = genetic_algorithm(problem, 2)\n"
   ],
   "metadata": {
    "collapsed": false
   }
  },
  {
   "cell_type": "code",
   "execution_count": 30,
   "outputs": [],
   "source": [
    "import numpy as np\n",
    "from typing import Callable\n",
    "from dataclasses import dataclass\n",
    "import math\n",
    "\n",
    "class Problem:\n",
    "    def __init__(self, Variables, ObjFunction, LB, UB):\n",
    "        self.Variables = Variables\n",
    "        self.ObjFunction = ObjFunction\n",
    "        self.LB = LB\n",
    "        self.UB = UB\n",
    "        self.Verbose = False\n",
    "        self.Tolerance = 1.0e-6\n",
    "        self.GenTest = 0.01\n",
    "        self.Stats = ProblemStatistics()\n",
    "\n",
    "class ProblemStatistics:\n",
    "    def __init__(self):\n",
    "        self.ObjFunCounter = 0\n",
    "        self.GenCounter = 0\n",
    "        self.Best = []\n",
    "        self.Worst = []\n",
    "        self.Mean = []\n",
    "        self.Std = []\n",
    "\n",
    "\n",
    "@dataclass\n",
    "class Chromosome:\n",
    "    n: int\n",
    "    x: np.ndarray\n",
    "    f: float\n",
    "\n",
    "def init_population(problem: Problem, size: int):\n",
    "    population = []\n",
    "    for i in range(size):\n",
    "        x = problem.LB + np.random.rand(problem.Variables) * (problem.UB - problem.LB)\n",
    "        f = problem.ObjFunction(x)\n",
    "        population.append(Chromosome(n=problem.Variables, x=x, f=f))\n",
    "    return population\n",
    "\n",
    "def tournament_selection(population: list, tournament_size: int):\n",
    "    tournament = np.random.choice(population, tournament_size, replace=False)\n",
    "    return min(tournament, key=lambda x: x.f)\n",
    "\n",
    "def crossover(parent1: Chromosome, parent2: Chromosome, prob_crossover: float):\n",
    "    if np.random.rand() > prob_crossover:\n",
    "        return parent1.x.copy()\n",
    "    else:\n",
    "        crossover_point = np.random.randint(1, parent1.x.shape[0]-1)\n",
    "        child = np.concatenate((parent1.x[:crossover_point], parent2.x[crossover_point:]))\n",
    "        return child\n",
    "\n",
    "\n",
    "def mutation(individual: Chromosome, prob_mutation: float, problem: Problem):\n",
    "    for i in range(individual.n):\n",
    "        if np.random.rand() < prob_mutation:\n",
    "            individual.x[i] = problem.LB[i] + np.random.rand() * (problem.UB[i] - problem.LB[i])\n",
    "    individual.f = problem.ObjFunction(individual.x)\n",
    "    return individual\n",
    "\n",
    "def ga(problem: Problem, population_size: int, num_generations: int, tournament_size: int = 2, prob_crossover: float = 0.9, prob_mutation: float = 0.1):\n",
    "    population = init_population(problem, population_size)\n",
    "    for gen in range(num_generations):\n",
    "        offspring = []\n",
    "        for i in range(population_size):\n",
    "            parent1 = tournament_selection(population, tournament_size)\n",
    "            parent2 = tournament_selection(population, tournament_size)\n",
    "            child = crossover(parent1, parent2, prob_crossover)\n",
    "            child = mutation(child, prob_mutation, problem)\n",
    "            offspring.append(child)\n",
    "        population = sorted(population + offspring, key=lambda x: x.f)[:population_size]\n",
    "        best_fitness = population[0].f\n",
    "        mean_fitness = np.mean([ind.f for ind in population])\n",
    "        std_fitness = np.std([ind.f for ind in population])\n",
    "        problem.Stats.Best.append(best_fitness)\n",
    "        problem.Stats.Mean.append(mean_fitness)\n",
    "        problem.Stats.Std.append(std_fitness)\n",
    "        problem.Stats.GenCounter += 1\n",
    "    return population[0], problem.Stats\n"
   ],
   "metadata": {
    "collapsed": false
   }
  },
  {
   "cell_type": "code",
   "execution_count": 31,
   "outputs": [
    {
     "ename": "AttributeError",
     "evalue": "'numpy.ndarray' object has no attribute 'n'",
     "output_type": "error",
     "traceback": [
      "\u001B[1;31m---------------------------------------------------------------------------\u001B[0m",
      "\u001B[1;31mAttributeError\u001B[0m                            Traceback (most recent call last)",
      "Cell \u001B[1;32mIn [31], line 15\u001B[0m\n\u001B[0;32m      6\u001B[0m     \u001B[38;5;28;01mreturn\u001B[39;00m \u001B[38;5;241m20\u001B[39m \u001B[38;5;241m+\u001B[39m math\u001B[38;5;241m.\u001B[39mpow(x[\u001B[38;5;241m0\u001B[39m], \u001B[38;5;241m2\u001B[39m) \u001B[38;5;241m+\u001B[39m math\u001B[38;5;241m.\u001B[39mpow(x[\u001B[38;5;241m1\u001B[39m], \u001B[38;5;241m2\u001B[39m) \u001B[38;5;241m-\u001B[39m \u001B[38;5;241m10\u001B[39m\u001B[38;5;241m*\u001B[39m(math\u001B[38;5;241m.\u001B[39mcos(\u001B[38;5;241m2\u001B[39m\u001B[38;5;241m*\u001B[39mmath\u001B[38;5;241m.\u001B[39mpi\u001B[38;5;241m*\u001B[39mx[\u001B[38;5;241m0\u001B[39m]) \u001B[38;5;241m+\u001B[39m math\u001B[38;5;241m.\u001B[39mcos(\u001B[38;5;241m2\u001B[39m\u001B[38;5;241m*\u001B[39mmath\u001B[38;5;241m.\u001B[39mpi\u001B[38;5;241m*\u001B[39mx[\u001B[38;5;241m1\u001B[39m]))\n\u001B[0;32m      8\u001B[0m problem \u001B[38;5;241m=\u001B[39m Problem(\n\u001B[0;32m      9\u001B[0m     Variables\u001B[38;5;241m=\u001B[39m\u001B[38;5;241m2\u001B[39m,\n\u001B[0;32m     10\u001B[0m     ObjFunction\u001B[38;5;241m=\u001B[39mmy_function,\n\u001B[0;32m     11\u001B[0m     LB\u001B[38;5;241m=\u001B[39m\u001B[38;5;241m-\u001B[39m\u001B[38;5;241m5.12\u001B[39m\u001B[38;5;241m*\u001B[39mnp\u001B[38;5;241m.\u001B[39mones(\u001B[38;5;241m2\u001B[39m),\n\u001B[0;32m     12\u001B[0m     UB\u001B[38;5;241m=\u001B[39m\u001B[38;5;241m5.12\u001B[39m\u001B[38;5;241m*\u001B[39mnp\u001B[38;5;241m.\u001B[39mones(\u001B[38;5;241m2\u001B[39m)\n\u001B[0;32m     13\u001B[0m )\n\u001B[1;32m---> 15\u001B[0m best_chromosome, stats \u001B[38;5;241m=\u001B[39m \u001B[43mga\u001B[49m\u001B[43m(\u001B[49m\u001B[43mproblem\u001B[49m\u001B[43m,\u001B[49m\u001B[43m \u001B[49m\u001B[43mpopulation_size\u001B[49m\u001B[38;5;241;43m=\u001B[39;49m\u001B[38;5;241;43m100\u001B[39;49m\u001B[43m,\u001B[49m\u001B[43m \u001B[49m\u001B[43mnum_generations\u001B[49m\u001B[38;5;241;43m=\u001B[39;49m\u001B[38;5;241;43m1000\u001B[39;49m\u001B[43m)\u001B[49m\n\u001B[0;32m     17\u001B[0m \u001B[38;5;28mprint\u001B[39m(\u001B[38;5;124m\"\u001B[39m\u001B[38;5;124mBest solution:\u001B[39m\u001B[38;5;124m\"\u001B[39m, best_chromosome\u001B[38;5;241m.\u001B[39mx)\n\u001B[0;32m     18\u001B[0m \u001B[38;5;28mprint\u001B[39m(\u001B[38;5;124m\"\u001B[39m\u001B[38;5;124mBest objective value:\u001B[39m\u001B[38;5;124m\"\u001B[39m, best_chromosome\u001B[38;5;241m.\u001B[39mf)\n",
      "Cell \u001B[1;32mIn [30], line 69\u001B[0m, in \u001B[0;36mga\u001B[1;34m(problem, population_size, num_generations, tournament_size, prob_crossover, prob_mutation)\u001B[0m\n\u001B[0;32m     67\u001B[0m     parent2 \u001B[38;5;241m=\u001B[39m tournament_selection(population, tournament_size)\n\u001B[0;32m     68\u001B[0m     child \u001B[38;5;241m=\u001B[39m crossover(parent1, parent2, prob_crossover)\n\u001B[1;32m---> 69\u001B[0m     child \u001B[38;5;241m=\u001B[39m \u001B[43mmutation\u001B[49m\u001B[43m(\u001B[49m\u001B[43mchild\u001B[49m\u001B[43m,\u001B[49m\u001B[43m \u001B[49m\u001B[43mprob_mutation\u001B[49m\u001B[43m,\u001B[49m\u001B[43m \u001B[49m\u001B[43mproblem\u001B[49m\u001B[43m)\u001B[49m\n\u001B[0;32m     70\u001B[0m     offspring\u001B[38;5;241m.\u001B[39mappend(child)\n\u001B[0;32m     71\u001B[0m population \u001B[38;5;241m=\u001B[39m \u001B[38;5;28msorted\u001B[39m(population \u001B[38;5;241m+\u001B[39m offspring, key\u001B[38;5;241m=\u001B[39m\u001B[38;5;28;01mlambda\u001B[39;00m x: x\u001B[38;5;241m.\u001B[39mf)[:population_size]\n",
      "Cell \u001B[1;32mIn [30], line 55\u001B[0m, in \u001B[0;36mmutation\u001B[1;34m(individual, prob_mutation, problem)\u001B[0m\n\u001B[0;32m     54\u001B[0m \u001B[38;5;28;01mdef\u001B[39;00m \u001B[38;5;21mmutation\u001B[39m(individual: Chromosome, prob_mutation: \u001B[38;5;28mfloat\u001B[39m, problem: Problem):\n\u001B[1;32m---> 55\u001B[0m     \u001B[38;5;28;01mfor\u001B[39;00m i \u001B[38;5;129;01min\u001B[39;00m \u001B[38;5;28mrange\u001B[39m(\u001B[43mindividual\u001B[49m\u001B[38;5;241;43m.\u001B[39;49m\u001B[43mn\u001B[49m):\n\u001B[0;32m     56\u001B[0m         \u001B[38;5;28;01mif\u001B[39;00m np\u001B[38;5;241m.\u001B[39mrandom\u001B[38;5;241m.\u001B[39mrand() \u001B[38;5;241m<\u001B[39m prob_mutation:\n\u001B[0;32m     57\u001B[0m             individual\u001B[38;5;241m.\u001B[39mx[i] \u001B[38;5;241m=\u001B[39m problem\u001B[38;5;241m.\u001B[39mLB[i] \u001B[38;5;241m+\u001B[39m np\u001B[38;5;241m.\u001B[39mrandom\u001B[38;5;241m.\u001B[39mrand() \u001B[38;5;241m*\u001B[39m (problem\u001B[38;5;241m.\u001B[39mUB[i] \u001B[38;5;241m-\u001B[39m problem\u001B[38;5;241m.\u001B[39mLB[i])\n",
      "\u001B[1;31mAttributeError\u001B[0m: 'numpy.ndarray' object has no attribute 'n'"
     ]
    }
   ],
   "source": [
    "def sphere_function(x):\n",
    "    return np.sum(x ** 2)\n",
    "import math\n",
    "\n",
    "def my_function(x):\n",
    "    return 20 + math.pow(x[0], 2) + math.pow(x[1], 2) - 10*(math.cos(2*math.pi*x[0]) + math.cos(2*math.pi*x[1]))\n",
    "\n",
    "problem = Problem(\n",
    "    Variables=2,\n",
    "    ObjFunction=my_function,\n",
    "    LB=-5.12*np.ones(2),\n",
    "    UB=5.12*np.ones(2)\n",
    ")\n",
    "\n",
    "best_chromosome, stats = ga(problem, population_size=100, num_generations=1000)\n",
    "\n",
    "print(\"Best solution:\", best_chromosome.x)\n",
    "print(\"Best objective value:\", best_chromosome.f)\n"
   ],
   "metadata": {
    "collapsed": false
   }
  },
  {
   "cell_type": "code",
   "execution_count": null,
   "outputs": [],
   "source": [
    "import numpy as np\n",
    "import random\n",
    "\n",
    "class Problem:\n",
    "    def __init__(self, Variables, ObjFunction, LB, UB):\n",
    "        self.Variables = Variables\n",
    "        self.ObjFunction = ObjFunction\n",
    "        self.LB = LB\n",
    "        self.UB = UB\n",
    "        self.Verbose = False\n",
    "        self.Tolerance = 1.0e-6\n",
    "        self.GenTest = 0.01\n",
    "        self.Stats = ProblemStatistics()\n",
    "\n",
    "class ProblemStatistics:\n",
    "    def __init__(self):\n",
    "        self.ObjFunCounter = 0\n",
    "        self.GenCounter = 0\n",
    "        self.Best = []\n",
    "        self.Worst = []\n",
    "        self.Mean = []\n",
    "        self.Std = []\n",
    "\n",
    "class Chromosome:\n",
    "    def __init__(self, x, f):\n",
    "        self.x = x\n",
    "        self.f = f\n",
    "\n",
    "def rGA(Problem, MaxGenerations=100, PopSize=50, Pc=0.8, Pm=0.01):\n",
    "    Population = InitializePopulation(Problem, PopSize)\n",
    "    EvaluatePopulation(Problem, Population)\n",
    "\n",
    "    for i in range(MaxGenerations):\n",
    "        Offspring = Reproduce(Population, Pc, Pm)\n",
    "        EvaluatePopulation(Problem, Offspring)\n",
    "        Population = EnvironmentalSelection(Population, Offspring, PopSize)\n",
    "\n",
    "        # Store statistics\n",
    "        Problem.Stats.GenCounter = Problem.Stats.GenCounter + 1\n",
    "        Problem.Stats.ObjFunCounter = Problem.Stats.ObjFunCounter + PopSize + len(Offspring)\n",
    "        Problem.Stats.Best.append(min(Population, key=lambda x: x.f).f)\n",
    "        Problem.Stats.Worst.append(max(Population, key=lambda x: x.f).f)\n",
    "        Problem.Stats.Mean.append(np.mean([x.f for x in Population]))\n",
    "        Problem.Stats.Std.append(np.std([x.f for x in Population]))\n",
    "\n",
    "    # Return the best individual\n",
    "    bestChrom = min(Population, key=lambda x: x.f)\n",
    "    return bestChrom.x, bestChrom.f\n",
    "\n",
    "def InitializePopulation(Problem, Size):\n",
    "    Population = [Chromosome(np.random.uniform(Problem.LB, Problem.UB), None) for i in range(Size)]\n",
    "    return Population\n",
    "\n",
    "def EvaluatePopulation(Problem, Population):\n",
    "    for i in range(len(Population)):\n",
    "        if Population[i].f is None:\n",
    "            Population[i].f = Problem.ObjFunction(Population[i].x)\n",
    "\n",
    "def Reproduce(Population, Pc, Pm):\n",
    "    Offspring = []\n",
    "\n",
    "    while len(Offspring) < len(Population):\n",
    "        parent1 = TournamentSelection(Population)\n",
    "        parent2 = TournamentSelection(Population)\n",
    "\n",
    "        child1, child2 = Crossover(parent1, parent2, Pc)\n",
    "\n",
    "        child1 = Mutate(child1, Pm, Problem)\n",
    "        child2 = Mutate(child2, Pm, Problem)\n",
    "\n",
    "        Offspring.append(Chromosome(child1, None))\n",
    "        Offspring.append(Chromosome(child2, None))\n",
    "\n",
    "    return Offspring\n",
    "\n",
    "def TournamentSelection(Population, TournamentSize=2):\n",
    "    participants = random.sample(Population, TournamentSize)\n",
    "    return min(participants, key=lambda x: x.f)\n",
    "\n",
    "def Crossover(parent1, parent2, Pc):\n",
    "    if random.uniform(0, 1) > Pc:\n",
    "        return parent1.x, parent2.x\n",
    "\n",
    "    n = len(parent1.x)\n",
    "    c = random.randint(0, n - 1)\n",
    "\n",
    "    child1 = np.concatenate((parent1.x[:c], child2.x[c:])\n",
    "\n"
   ],
   "metadata": {
    "collapsed": false
   }
  },
  {
   "cell_type": "code",
   "execution_count": null,
   "outputs": [],
   "source": [
    "class GeneticAlgorithm:\n",
    "\n",
    "    def init(self, problem, Npop, MaxIt, pc, nc, mu, sigma, k, beta):\n",
    "        self.problem = problem\n",
    "        self.Npop = Npop\n",
    "        self.MaxIt = MaxIt\n",
    "        self.pc = pc\n",
    "        self.nc = nc\n",
    "        self.mu = mu\n",
    "        self.sigma = sigma\n",
    "        self.k = k\n",
    "        self.beta = beta\n",
    "        self.pop = []\n",
    "        self.BestSol = None\n",
    "\n",
    "    def initialize_population(self):\n",
    "        for i in range(self.Npop):\n",
    "            x = np.random.uniform(self.problem.LB, self.problem.UB, self.problem.Variables)\n",
    "            f = self.problem.ObjFunction(x)\n",
    "            self.pop.append(Chromosome(x, f))\n",
    "        self.BestSol = self.get_best_solution()\n",
    "\n",
    "    def get_best_solution(self):\n",
    "        best = self.pop[0]\n",
    "        for i in range(1, self.Npop):\n",
    "            if self.pop[i].f < best.f:\n",
    "                best = self.pop[i]\n",
    "        return best\n",
    "\n",
    "    def run(self):\n",
    "        self.problem.Stats.Best = np.zeros(self.MaxIt)\n",
    "        self.problem.Stats.Mean = np.zeros(self.MaxIt)\n",
    "        self.problem.Stats.Worst = np.zeros(self.MaxIt)\n",
    "        self.problem.Stats.Std = np.zeros(self.MaxIt)\n",
    "\n",
    "        for it in range(self.MaxIt):\n",
    "            self.problem.Stats.GenCounter = it\n",
    "\n",
    "            # selection\n",
    "            Q = []\n",
    "            for i in range(self.Npop):\n",
    "                p1 = self.selection_tournament()\n",
    "                p2 = self.selection_tournament()\n",
    "                c = self.crossover(p1, p2)\n",
    "                c.f = self.problem.ObjFunction(c.x)\n",
    "                Q.append(c)\n",
    "\n",
    "            # mutation\n",
    "            for i in range(self.Npop):\n",
    "                c = Q[i]\n",
    "                c.x = self.mutation(c.x)\n",
    "                c.f = self.problem.ObjFunction(c.x)\n",
    "\n",
    "            # merge\n",
    "            self.pop += Q\n",
    "\n",
    "            # sort\n",
    "            self.pop = sorted(self.pop, key=lambda c: c.f)\n",
    "\n",
    "            # truncate\n",
    "            self.pop = self.pop[0:self.Npop]\n",
    "\n",
    "            # update best solution\n",
    "            self.BestSol = self.get_best_solution()\n",
    "\n",
    "            # store statistics\n",
    "            self.problem.Stats.Best[it] = self.BestSol.f\n",
    "            self.problem.Stats.Mean[it] = np.mean([c.f for c in self.pop])\n",
    "            self.problem.Stats.Worst[it] = self.pop[-1].f\n",
    "            self.problem.Stats.Std[it] = np.std([c.f for c in self.pop])\n",
    "\n",
    "            # display iteration information\n",
    "            if self.problem.Verbose:\n",
    "                print(f\"Iteration {it}: Best Fitness = {self.BestSol.f}\")\n",
    "\n",
    "        # return best solution\n",
    "        return self.BestSol.x\n",
    "\n",
    "    def selection_tournament(self):\n",
    "        p = np.random.permutation(self.Npop)\n",
    "        p = p[0:self.k]\n",
    "        best = self.pop[p[0]]\n",
    "        for i in range(1, self.k):\n",
    "            if self.pop[p[i]].f < best.f:\n",
    "                best = self.pop[p[i]]\n",
    "        return best\n",
    "\n",
    "    def crossover(self, p1, p2):\n",
    "        if np.random.rand() > self.pc:\n",
    "            return Chromosome(p1.x, p1.f)\n",
    "\n",
    "        c = Chromosome(np.zeros_like(p1.x), 0)\n",
    "\n",
    "        for i in range(len(p1.x)):\n",
    "            if np.random.rand() > 0.5:\n",
    "                c.x[i] = p1.x[i]\n",
    "            else:\n",
    "                c.x[i] = p2.x[i]\n",
    "\n",
    "        c.f = self.problem.ObjFunction(c.x)\n",
    "\n",
    "        return c\n"
   ],
   "metadata": {
    "collapsed": false
   }
  },
  {
   "cell_type": "code",
   "execution_count": null,
   "outputs": [],
   "source": [
    "def ObjEval(Problem, x, *args):\n",
    "    Problem.Stats.Evaluations += 1\n",
    "    return Problem.ObjFunction(x, *args)\n",
    "\n",
    "\n",
    "def InitPopulation(Problem, InitialPopulation, Size):\n",
    "    Population = {}\n",
    "    if InitialPopulation:\n",
    "        for i, key in enumerate(InitialPopulation):\n",
    "            if i >= Size:\n",
    "                break\n",
    "            x = np.clip(InitialPopulation[key], Problem.LB[:Problem.Variables], Problem.UB[:Problem.Variables])\n",
    "            f = Problem.ObjFunction(x)\n",
    "            Population['x'+str(i)] = x\n",
    "            Population['f'+str(i)] = f\n",
    "    for i in range(len(Population), Size):\n",
    "        x = np.random.uniform(Problem.LB[:Problem.Variables], Problem.UB[:Problem.Variables])\n",
    "        f = Problem.ObjFunction(x)\n",
    "        Population['x'+str(i)] = x\n",
    "        Population['f'+str(i)] = f\n",
    "    return Problem, Population"
   ],
   "metadata": {
    "collapsed": false
   }
  },
  {
   "cell_type": "code",
   "execution_count": 38,
   "outputs": [],
   "source": [
    "import numpy as np\n",
    "def Bounds(X, L, U):\n",
    "    for _ in range(len(X)):\n",
    "        if X[_] < L[_]:\n",
    "            X[_] = L[_]\n",
    "        if X[_] > U[_]:\n",
    "            X[_] = U[_]\n",
    "    return X\n",
    "\n",
    "def ObjEval(Problem, x, *args):\n",
    "    Problem.Stats.Evaluations += 1\n",
    "    return Problem.ObjFunction(x, *args)\n",
    "\n",
    "\n",
    "class Popul:\n",
    "    def __init__(self, x, f):\n",
    "        self.x = x\n",
    "        self.f = f\n",
    "\n",
    "\n",
    "class ProblemStatistics:\n",
    "    def __init__(self):\n",
    "        self.Evaluations = 0\n",
    "        self.Iterations = 0\n",
    "        self.StopFlag = ''\n",
    "        self.Message = ''\n",
    "\n",
    "\n",
    "class Problem:\n",
    "    def __init__(self, Variables, ObjFunction, LB, UB):\n",
    "        self.Variables = Variables\n",
    "        self.ObjFunction = ObjFunction\n",
    "        self.LB = LB\n",
    "        self.UB = UB\n",
    "        self.Verbose = False\n",
    "        self.Tolerance = 1.0e-6\n",
    "        self.GenTest = 0.01\n",
    "        self.Stats = ProblemStatistics()\n",
    "\n",
    "\n",
    "def InitPopulation(Problem, InitialPopulation, Size, *args):\n",
    "    if InitialPopulation and not all(isinstance(ind, InitialGuess) for ind in InitialPopulation):\n",
    "        raise TypeError('Initial population must be defined as a list of InitialGuess objects.')\n",
    "    if len(InitialPopulation) > Size:\n",
    "        raise ValueError('Initial population size must be inferior to PopSize.')\n",
    "\n",
    "    Population = Popul(np.zeros((Size, Problem.Variables)), np.zeros(Size))\n",
    "    for i in range(len(InitialPopulation)):\n",
    "        Population.x[i, :] = Bounds(InitialPopulation[i].x, Problem.LB[:Problem.Variables], Problem.UB[:Problem.Variables])\n",
    "        Problem, Population.f[i] = ObjEval(Problem, Population.x[i, :], *args)\n",
    "\n",
    "    for i in range(len(InitialPopulation), Size):\n",
    "        Population.x[i, :] = Problem.LB[:Problem.Variables] + (Problem.UB[:Problem.Variables] - Problem.LB[:Problem.Variables]) * np.random.rand(Problem.Variables)\n",
    "        Problem, Population.f[i] = ObjEval(Problem, Population.x[i, :], *args)\n",
    "\n",
    "    Population.f = Population.f.reshape(-1, 1)\n",
    "\n",
    "    return Problem, Population\n",
    "\n"
   ],
   "metadata": {
    "collapsed": false
   }
  },
  {
   "cell_type": "code",
   "execution_count": 40,
   "outputs": [
    {
     "ename": "TypeError",
     "evalue": "cannot unpack non-iterable numpy.float64 object",
     "output_type": "error",
     "traceback": [
      "\u001B[1;31m---------------------------------------------------------------------------\u001B[0m",
      "\u001B[1;31mTypeError\u001B[0m                                 Traceback (most recent call last)",
      "Cell \u001B[1;32mIn [40], line 11\u001B[0m\n\u001B[0;32m      9\u001B[0m InitialPopulation \u001B[38;5;241m=\u001B[39m [InitialGuess(np\u001B[38;5;241m.\u001B[39marray([\u001B[38;5;241m0.5\u001B[39m, \u001B[38;5;241m0.5\u001B[39m])), InitialGuess(np\u001B[38;5;241m.\u001B[39marray([\u001B[38;5;241m-\u001B[39m\u001B[38;5;241m0.5\u001B[39m, \u001B[38;5;241m-\u001B[39m\u001B[38;5;241m0.5\u001B[39m]))]\n\u001B[0;32m     10\u001B[0m Size \u001B[38;5;241m=\u001B[39m \u001B[38;5;241m10\u001B[39m\n\u001B[1;32m---> 11\u001B[0m Problem, Population \u001B[38;5;241m=\u001B[39m \u001B[43mInitPopulation\u001B[49m\u001B[43m(\u001B[49m\u001B[43mProblem\u001B[49m\u001B[43m,\u001B[49m\u001B[43m \u001B[49m\u001B[43mInitialPopulation\u001B[49m\u001B[43m,\u001B[49m\u001B[43m \u001B[49m\u001B[43mSize\u001B[49m\u001B[43m)\u001B[49m\n",
      "Cell \u001B[1;32mIn [38], line 50\u001B[0m, in \u001B[0;36mInitPopulation\u001B[1;34m(Problem, InitialPopulation, Size, *args)\u001B[0m\n\u001B[0;32m     48\u001B[0m \u001B[38;5;28;01mfor\u001B[39;00m i \u001B[38;5;129;01min\u001B[39;00m \u001B[38;5;28mrange\u001B[39m(\u001B[38;5;28mlen\u001B[39m(InitialPopulation)):\n\u001B[0;32m     49\u001B[0m     Population\u001B[38;5;241m.\u001B[39mx[i, :] \u001B[38;5;241m=\u001B[39m Bounds(InitialPopulation[i]\u001B[38;5;241m.\u001B[39mx, Problem\u001B[38;5;241m.\u001B[39mLB[:Problem\u001B[38;5;241m.\u001B[39mVariables], Problem\u001B[38;5;241m.\u001B[39mUB[:Problem\u001B[38;5;241m.\u001B[39mVariables])\n\u001B[1;32m---> 50\u001B[0m     Problem, Population\u001B[38;5;241m.\u001B[39mf[i] \u001B[38;5;241m=\u001B[39m ObjEval(Problem, Population\u001B[38;5;241m.\u001B[39mx[i, :], \u001B[38;5;241m*\u001B[39margs)\n\u001B[0;32m     52\u001B[0m \u001B[38;5;28;01mfor\u001B[39;00m i \u001B[38;5;129;01min\u001B[39;00m \u001B[38;5;28mrange\u001B[39m(\u001B[38;5;28mlen\u001B[39m(InitialPopulation), Size):\n\u001B[0;32m     53\u001B[0m     Population\u001B[38;5;241m.\u001B[39mx[i, :] \u001B[38;5;241m=\u001B[39m Problem\u001B[38;5;241m.\u001B[39mLB[:Problem\u001B[38;5;241m.\u001B[39mVariables] \u001B[38;5;241m+\u001B[39m (Problem\u001B[38;5;241m.\u001B[39mUB[:Problem\u001B[38;5;241m.\u001B[39mVariables] \u001B[38;5;241m-\u001B[39m Problem\u001B[38;5;241m.\u001B[39mLB[:Problem\u001B[38;5;241m.\u001B[39mVariables]) \u001B[38;5;241m*\u001B[39m np\u001B[38;5;241m.\u001B[39mrandom\u001B[38;5;241m.\u001B[39mrand(Problem\u001B[38;5;241m.\u001B[39mVariables)\n",
      "\u001B[1;31mTypeError\u001B[0m: cannot unpack non-iterable numpy.float64 object"
     ]
    }
   ],
   "source": [
    "def test_obj(x):\n",
    "    return np.sum(x ** 2)\n",
    "\n",
    "class InitialGuess:\n",
    "    def __init__(self, x):\n",
    "        self.x = x\n",
    "\n",
    "Problem = Problem(2, test_obj, np.array([-5.12, -5.12]), np.array([5.12, 5.12]))\n",
    "InitialPopulation = [InitialGuess(np.array([0.5, 0.5])), InitialGuess(np.array([-0.5, -0.5]))]\n",
    "Size = 10\n",
    "Problem, Population = InitPopulation(Problem, InitialPopulation, Size)\n"
   ],
   "metadata": {
    "collapsed": false
   }
  },
  {
   "cell_type": "code",
   "execution_count": null,
   "outputs": [],
   "source": [
    "import numpy as np\n",
    "\n",
    "\n",
    "class InitialGuess:\n",
    "    def __init__(self, x):\n",
    "        self.x = x\n",
    "\n",
    "\n",
    "class Popul:\n",
    "    def __init__(self, x, f):\n",
    "        self.x = x\n",
    "        self.f = f\n",
    "\n",
    "\n",
    "class ProblemStatistics:\n",
    "    def __init__(self):\n",
    "        self.Evaluations = 0\n",
    "        self.Iterations = 0\n",
    "        self.StopFlag = ''\n",
    "        self.Message = ''\n",
    "\n",
    "\n",
    "class Problem:\n",
    "    def __init__(self, Variables, ObjFunction, LB, UB):\n",
    "        self.Variables = Variables\n",
    "        self.ObjFunction = ObjFunction\n",
    "        self.LB = LB\n",
    "        self.UB = UB\n",
    "        self.Verbose = False\n",
    "        self.Tolerance = 1.0e-6\n",
    "        self.GenTest = 0.01\n",
    "        self.Stats = ProblemStatistics()\n",
    "\n",
    "\n",
    "def Bounds(X, L, U):\n",
    "    for i in range(len(X)):\n",
    "        if X[i] < L[i]:\n",
    "            X[i] = L[i]\n",
    "        if X[i] > U[i]:\n",
    "            X[i] = U[i]\n",
    "    return X\n",
    "\n",
    "\n",
    "def ObjEval(Problem, x, *args):\n",
    "    Problem.Stats.Evaluations += 1\n",
    "    return Problem.ObjFunction(x, *args)\n",
    "\n",
    "\n",
    "def InitPopulation(Problem, InitialPopulation, Size, *args):\n",
    "    if InitialPopulation and not all(isinstance(ind, InitialGuess) for ind in InitialPopulation):\n",
    "        raise TypeError('Initial population must be defined as a list of InitialGuess objects.')\n",
    "    if len(InitialPopulation) > Size:\n",
    "        raise ValueError('Initial population size must be inferior to PopSize.')\n",
    "\n",
    "    Popl = Popul(np.zeros((Size, Problem.Variables)), np.zeros(Size))\n",
    "    for i in range(len(InitialPopulation)):\n",
    "        Popl.x[i, :] = Bounds(InitialPopulation[i].x, Problem.LB[:Problem.Variables], Problem.UB[:Problem.Variables])\n",
    "        Problem.Stats, Popl.f[i] = ObjEval(Problem, Popl.x[i, :], *args)\n",
    "\n",
    "    for i in range(len(InitialPopulation), Size):\n",
    "        Popl.x[i, :] = Problem.LB[:Problem.Variables] + (\n",
    "            Problem.UB[:Problem.Variables] - Problem.LB[:Problem.Variables]) * np.random.rand(Problem.Variables)\n",
    "        Problem.Stats, Popl.f[i] = ObjEval(Problem, Popl.x[i, :], *args)\n",
    "\n",
    "    Popl.f = Popl.f.reshape(-1, 1)\n",
    "\n",
    "    return Problem, Popl\n",
    "\n",
    "\n",
    "def tournament_selection(chromosomes, pool_size, tour_size):\n",
    "    pop = chromosomes.x.shape[0]\n",
    "    P = Popul(np.zeros((pool_size, chromosomes.x.shape[1])), np.zeros(pool_size))\n",
    "    for i in range(pool_size):\n",
    "        candidate = np.zeros(tour_size, dtype=int)\n",
    "        fitness = np.zeros(tour_size)\n",
    "        for j in range(tour_size):\n",
    "            candidate[j] = np.random.randint(pop)\n",
    "            while j > 0 and np.isin(candidate[j], candidate[:j]):\n",
    "                candidate[j] = np.random.randint(pop)\n",
    "            fitness[j] = chromosomes.f[candidate[j]]\n",
    "        min_candidate = np.argmin(fitness)\n",
    "        P.x[i, :] = chromosomes.x[candidate[min_candidate], :]\n",
    "        P.f[i] = chromosomes.f[candidate[min_candidate]]\n",
    "    P.f = P.f.reshape(-1, 1)\n",
    "    return P"
   ],
   "metadata": {
    "collapsed": false
   }
  },
  {
   "cell_type": "code",
   "execution_count": 43,
   "outputs": [
    {
     "name": "stdout",
     "output_type": "stream",
     "text": [
      "(5, True)\n"
     ]
    }
   ],
   "source": [
    "def fun(Options=None):\n",
    "    if 'pmut' not in Options:\n",
    "        return False\n",
    "    elif 'pmut' in Options:\n",
    "        alg.lbmd = True\n",
    "        return Options['pmut'], alg.lbmd\n",
    "opt={'pmut':5}\n",
    "\n",
    "\n",
    "class alg:\n",
    "    def __init__(self):\n",
    "        self.lbmd = None\n",
    "        self.ldelta = None\n",
    "\n",
    "print(fun(opt))"
   ],
   "metadata": {
    "collapsed": false
   }
  },
  {
   "cell_type": "code",
   "execution_count": 48,
   "outputs": [
    {
     "name": "stdout",
     "output_type": "stream",
     "text": [
      "[5]\n"
     ]
    }
   ],
   "source": [
    "delta = []\n",
    "gama = 5\n",
    "x0 = [0,3]\n",
    "alg= []\n",
    "for j in range(2):\n",
    "    if x0 is None or x0[j] == 0:\n",
    "        alg.append(gama)\n",
    "            else:\n",
    "            alg['delta'][j] = x0[j] * opt['gama']\n",
    "elif opt['delta'] == 1:\n",
    "    alg['delta'] = [1] * Problem['Variables']\n",
    "print(alg)"
   ],
   "metadata": {
    "collapsed": false
   }
  },
  {
   "cell_type": "code",
   "execution_count": 51,
   "outputs": [
    {
     "ename": "TypeError",
     "evalue": "unhashable type: 'dict'",
     "output_type": "error",
     "traceback": [
      "\u001B[1;31m---------------------------------------------------------------------------\u001B[0m",
      "\u001B[1;31mTypeError\u001B[0m                                 Traceback (most recent call last)",
      "Cell \u001B[1;32mIn [51], line 1\u001B[0m\n\u001B[1;32m----> 1\u001B[0m history \u001B[38;5;241m=\u001B[39m {{\u001B[38;5;124m'\u001B[39m\u001B[38;5;124mIter\u001B[39m\u001B[38;5;124m'\u001B[39m:\u001B[38;5;28;01mNone\u001B[39;00m}, {\u001B[38;5;124m'\u001B[39m\u001B[38;5;124mfx rGA\u001B[39m\u001B[38;5;124m'\u001B[39m:\u001B[38;5;28;01mNone\u001B[39;00m}, {\u001B[38;5;124m'\u001B[39m\u001B[38;5;124mnf rGA\u001B[39m\u001B[38;5;124m'\u001B[39m:\u001B[38;5;28;01mNone\u001B[39;00m}, {\u001B[38;5;124m'\u001B[39m\u001B[38;5;124mfx HJ\u001B[39m\u001B[38;5;124m'\u001B[39m:\u001B[38;5;28;01mNone\u001B[39;00m}, {\u001B[38;5;124m'\u001B[39m\u001B[38;5;124mnf HJ\u001B[39m\u001B[38;5;124m'\u001B[39m:\u001B[38;5;28;01mNone\u001B[39;00m}}\n\u001B[0;32m      2\u001B[0m history[\u001B[38;5;124m'\u001B[39m\u001B[38;5;124mIter\u001B[39m\u001B[38;5;124m'\u001B[39m]\u001B[38;5;241m=\u001B[39m \u001B[38;5;241m0\u001B[39m\n",
      "\u001B[1;31mTypeError\u001B[0m: unhashable type: 'dict'"
     ]
    }
   ],
   "source": [
    "history = {1:{'Iter':None, 'fx rGA':None, 'nf rGA':None, 'fx HJ':None, 'nf HJ':None}}\n",
    "history[['Iter'] = 0"
   ],
   "metadata": {
    "collapsed": false
   }
  },
  {
   "cell_type": "code",
   "execution_count": 71,
   "outputs": [
    {
     "name": "stdout",
     "output_type": "stream",
     "text": [
      "[[2, 3]]\n"
     ]
    }
   ],
   "source": [
    "lst=[[2,3]]\n",
    "lst = [list(a) for a in lst]\n",
    "print(lst)"
   ],
   "metadata": {
    "collapsed": false
   }
  },
  {
   "cell_type": "code",
   "execution_count": 61,
   "outputs": [
    {
     "data": {
      "text/plain": "<function __main__.lag(x)>"
     },
     "execution_count": 61,
     "metadata": {},
     "output_type": "execute_result"
    }
   ],
   "source": [
    "def lag(x):\n",
    "\n",
    "    return x+1\n",
    "\n",
    "def fun(y):\n",
    "    y = lag\n",
    "    return y\n",
    "\n",
    "fun(0)"
   ],
   "metadata": {
    "collapsed": false
   }
  },
  {
   "cell_type": "code",
   "execution_count": 66,
   "outputs": [
    {
     "name": "stdout",
     "output_type": "stream",
     "text": [
      "[1, -4]\n"
     ]
    }
   ],
   "source": [
    "InitialPopulation = [[-3, 2], [1, -4]]\n",
    "x = InitialPopulation[1]\n",
    "print(x)"
   ],
   "metadata": {
    "collapsed": false
   }
  },
  {
   "cell_type": "code",
   "execution_count": 2,
   "outputs": [
    {
     "name": "stdout",
     "output_type": "stream",
     "text": [
      "0.01\n"
     ]
    }
   ],
   "source": [
    "d={'Pmut':0.01}\n",
    "x=2\n",
    "if 'Pmut' not in d:\n",
    "    Pm = 1 / x\n",
    "    print(f\"MEGA: MEGA mutation probability set to {Pm}\")\n",
    "else:\n",
    "    Pm = d['Pmut']\n",
    "\n",
    "print(Pm)"
   ],
   "metadata": {
    "collapsed": false
   }
  },
  {
   "cell_type": "code",
   "execution_count": 25,
   "outputs": [
    {
     "data": {
      "text/plain": "[1, 0]"
     },
     "execution_count": 25,
     "metadata": {},
     "output_type": "execute_result"
    }
   ],
   "source": [
    "# NonDomPoint = [[]]\n",
    "R=[[1,0],[2,8]]\n",
    "# for i in range(3):\n",
    "#     NonDomPoint[i, :] = 0\n",
    "\n",
    "# print(NonDomPoint)\n",
    "R[0]"
   ],
   "metadata": {
    "collapsed": false
   }
  },
  {
   "cell_type": "code",
   "execution_count": 33,
   "outputs": [
    {
     "data": {
      "text/plain": "array([[0.],\n       [0.],\n       [0.],\n       [0.],\n       [0.],\n       [0.],\n       [0.],\n       [0.],\n       [0.],\n       [0.],\n       [0.],\n       [0.],\n       [0.],\n       [0.],\n       [0.],\n       [0.],\n       [0.],\n       [0.],\n       [0.],\n       [0.],\n       [0.],\n       [0.],\n       [0.],\n       [0.],\n       [0.],\n       [0.],\n       [0.],\n       [0.],\n       [0.],\n       [0.],\n       [0.],\n       [0.],\n       [0.],\n       [0.],\n       [0.],\n       [0.],\n       [0.],\n       [0.],\n       [0.],\n       [0.]])"
     },
     "execution_count": 33,
     "metadata": {},
     "output_type": "execute_result"
    }
   ],
   "source": [
    "import numpy as np\n",
    "np.zeros((40, 1))"
   ],
   "metadata": {
    "collapsed": false
   }
  },
  {
   "cell_type": "code",
   "execution_count": 45,
   "outputs": [
    {
     "data": {
      "text/plain": "0.9794755"
     },
     "execution_count": 45,
     "metadata": {},
     "output_type": "execute_result"
    }
   ],
   "source": [
    "import numpy as np\n",
    "import math\n",
    "np.linalg.norm(np.maximum([0], -0.0868) / 1, ord= np.inf)\n",
    "np.linalg.norm([np.abs(0.0) / np.abs(1)], ord = np.inf)\n",
    "p = np.array([[0.09105335], [0.9794755]])\n",
    "np.linalg.norm(np.maximum(0, p), np.inf) + np.linalg.norm(\n",
    "            np.abs([0]), np.inf)"
   ],
   "metadata": {
    "collapsed": false
   }
  },
  {
   "cell_type": "code",
   "execution_count": 49,
   "outputs": [
    {
     "name": "stdout",
     "output_type": "stream",
     "text": [
      "[[-0.42227524  0.38177589]\n",
      " [-0.49973342  0.0232382 ]\n",
      " [ 0.27616477  1.44915644]\n",
      " [-0.35491071  1.04767799]\n",
      " [-0.39013653  0.48476797]]\n"
     ]
    }
   ],
   "source": [
    "[[ 0.48995288  0.63963338  0.48995288  4.93723217 -0.25994618  0.87968721  0.          0.          1.          1.        ]\n",
    " [ 0.82507513  0.84620403  0.82507513  5.94961942  0.18074898  1.52695301  0.          0.          2.          2.        ]\n",
    " [ 0.64186222  0.25380554  0.64186222  1.8323422  -0.08801289  0.66579266  0.          0.          1.          1.        ]\n",
    " [ 0.08826941  0.51096266  0.08826941  4.89567693 -0.49220851  0.51875415  0.          0.          1.          1.        ]\n",
    " [ 0.75275919  0.28157317  0.75275919  1.90309434  0.06664641  0.84821957  0.          0.          1.          1.        ]]\n",
    "\n",
    "[[ 0.48995288  0.63963338  0.48995288  4.93723217 -0.25994618  0.87968721  0.          0.          1.          1.        ]\n",
    " [ 0.64186222  0.25380554  0.64186222  1.8323422  -0.08801289  0.66579266  0.          0.          1.          1.        ]\n",
    " [ 0.08826941  0.51096266  0.08826941  4.89567693 -0.49220851  0.51875415  0.          0.          1.          1.        ]\n",
    " [ 0.75275919  0.28157317  0.75275919  1.90309434  0.06664641  0.84821957  0.          0.          1.          1.        ]\n",
    " [ 0.82507513  0.84620403  0.82507513  5.94961942  0.18074898  1.52695301  0.          0.          2.          2.        ]]\n"
   ],
   "metadata": {
    "collapsed": false
   }
  },
  {
   "cell_type": "code",
   "execution_count": null,
   "outputs": [],
   "source": [
    "Population.x = temp[:, :Population.x.shape[1]]"
   ],
   "metadata": {
    "collapsed": false
   }
  },
  {
   "cell_type": "code",
   "execution_count": 14,
   "outputs": [
    {
     "name": "stdout",
     "output_type": "stream",
     "text": [
      "0\n",
      "1\n",
      "2\n"
     ]
    }
   ],
   "source": [
    "x = [1,2,3]\n",
    "d = [9,8,7]\n",
    "x = np.append(np.array(x), np.array(d))\n",
    "x\n",
    "for i in range(3):\n",
    "    print(i)"
   ],
   "metadata": {
    "collapsed": false
   }
  },
  {
   "cell_type": "code",
   "execution_count": 24,
   "outputs": [
    {
     "ename": "ValueError",
     "evalue": "The truth value of an array with more than one element is ambiguous. Use a.any() or a.all()",
     "output_type": "error",
     "traceback": [
      "\u001B[1;31m---------------------------------------------------------------------------\u001B[0m",
      "\u001B[1;31mValueError\u001B[0m                                Traceback (most recent call last)",
      "Cell \u001B[1;32mIn [24], line 13\u001B[0m\n\u001B[0;32m      3\u001B[0m P \u001B[38;5;241m=\u001B[39m np\u001B[38;5;241m.\u001B[39marray([[\u001B[38;5;241m0.94000867\u001B[39m, \u001B[38;5;241m3.32835045\u001B[39m, \u001B[38;5;241m0.\u001B[39m],\n\u001B[0;32m      4\u001B[0m               [\u001B[38;5;241m0.75072613\u001B[39m, \u001B[38;5;241m5.06752798\u001B[39m, \u001B[38;5;241m1.\u001B[39m],\n\u001B[0;32m      5\u001B[0m               [\u001B[38;5;241m0.86161495\u001B[39m, \u001B[38;5;241m2.29700319\u001B[39m, \u001B[38;5;241m2.\u001B[39m],\n\u001B[0;32m      6\u001B[0m               [\u001B[38;5;241m0.02629283\u001B[39m, \u001B[38;5;241m9.23118858\u001B[39m, \u001B[38;5;241m3.\u001B[39m],\n\u001B[0;32m      7\u001B[0m               [\u001B[38;5;241m0.43248257\u001B[39m, \u001B[38;5;241m6.16670381\u001B[39m, \u001B[38;5;241m4.\u001B[39m]])\n\u001B[0;32m      9\u001B[0m ND \u001B[38;5;241m=\u001B[39m np\u001B[38;5;241m.\u001B[39marray([[\u001B[38;5;241m0.02629283\u001B[39m, \u001B[38;5;241m9.23118858\u001B[39m, \u001B[38;5;241m3.\u001B[39m],\n\u001B[0;32m     10\u001B[0m                [\u001B[38;5;241m0.43248257\u001B[39m, \u001B[38;5;241m6.16670381\u001B[39m, \u001B[38;5;241m4.\u001B[39m],\n\u001B[0;32m     11\u001B[0m                [\u001B[38;5;241m0.86161495\u001B[39m, \u001B[38;5;241m2.29700319\u001B[39m, \u001B[38;5;241m2.\u001B[39m]])\n\u001B[1;32m---> 13\u001B[0m P \u001B[38;5;241m=\u001B[39m \u001B[43mnp\u001B[49m\u001B[38;5;241;43m.\u001B[39;49m\u001B[43munique\u001B[49m\u001B[43m(\u001B[49m\u001B[43mP\u001B[49m\u001B[43m,\u001B[49m\u001B[43m \u001B[49m\u001B[43mND\u001B[49m\u001B[43m)\u001B[49m\n\u001B[0;32m     14\u001B[0m P\n",
      "File \u001B[1;32m<__array_function__ internals>:180\u001B[0m, in \u001B[0;36munique\u001B[1;34m(*args, **kwargs)\u001B[0m\n",
      "File \u001B[1;32mD:\\Mestrado\\2ano\\1semestre\\SIB\\si\\venv\\lib\\site-packages\\numpy\\lib\\arraysetops.py:274\u001B[0m, in \u001B[0;36munique\u001B[1;34m(ar, return_index, return_inverse, return_counts, axis, equal_nan)\u001B[0m\n\u001B[0;32m    272\u001B[0m ar \u001B[38;5;241m=\u001B[39m np\u001B[38;5;241m.\u001B[39masanyarray(ar)\n\u001B[0;32m    273\u001B[0m \u001B[38;5;28;01mif\u001B[39;00m axis \u001B[38;5;129;01mis\u001B[39;00m \u001B[38;5;28;01mNone\u001B[39;00m:\n\u001B[1;32m--> 274\u001B[0m     ret \u001B[38;5;241m=\u001B[39m \u001B[43m_unique1d\u001B[49m\u001B[43m(\u001B[49m\u001B[43mar\u001B[49m\u001B[43m,\u001B[49m\u001B[43m \u001B[49m\u001B[43mreturn_index\u001B[49m\u001B[43m,\u001B[49m\u001B[43m \u001B[49m\u001B[43mreturn_inverse\u001B[49m\u001B[43m,\u001B[49m\u001B[43m \u001B[49m\u001B[43mreturn_counts\u001B[49m\u001B[43m,\u001B[49m\u001B[43m \u001B[49m\n\u001B[0;32m    275\u001B[0m \u001B[43m                    \u001B[49m\u001B[43mequal_nan\u001B[49m\u001B[38;5;241;43m=\u001B[39;49m\u001B[43mequal_nan\u001B[49m\u001B[43m)\u001B[49m\n\u001B[0;32m    276\u001B[0m     \u001B[38;5;28;01mreturn\u001B[39;00m _unpack_tuple(ret)\n\u001B[0;32m    278\u001B[0m \u001B[38;5;66;03m# axis was specified and not None\u001B[39;00m\n",
      "File \u001B[1;32mD:\\Mestrado\\2ano\\1semestre\\SIB\\si\\venv\\lib\\site-packages\\numpy\\lib\\arraysetops.py:330\u001B[0m, in \u001B[0;36m_unique1d\u001B[1;34m(ar, return_index, return_inverse, return_counts, equal_nan)\u001B[0m\n\u001B[0;32m    325\u001B[0m \u001B[38;5;124;03m\"\"\"\u001B[39;00m\n\u001B[0;32m    326\u001B[0m \u001B[38;5;124;03mFind the unique elements of an array, ignoring shape.\u001B[39;00m\n\u001B[0;32m    327\u001B[0m \u001B[38;5;124;03m\"\"\"\u001B[39;00m\n\u001B[0;32m    328\u001B[0m ar \u001B[38;5;241m=\u001B[39m np\u001B[38;5;241m.\u001B[39masanyarray(ar)\u001B[38;5;241m.\u001B[39mflatten()\n\u001B[1;32m--> 330\u001B[0m optional_indices \u001B[38;5;241m=\u001B[39m return_index \u001B[38;5;129;01mor\u001B[39;00m return_inverse\n\u001B[0;32m    332\u001B[0m \u001B[38;5;28;01mif\u001B[39;00m optional_indices:\n\u001B[0;32m    333\u001B[0m     perm \u001B[38;5;241m=\u001B[39m ar\u001B[38;5;241m.\u001B[39margsort(kind\u001B[38;5;241m=\u001B[39m\u001B[38;5;124m'\u001B[39m\u001B[38;5;124mmergesort\u001B[39m\u001B[38;5;124m'\u001B[39m \u001B[38;5;28;01mif\u001B[39;00m return_index \u001B[38;5;28;01melse\u001B[39;00m \u001B[38;5;124m'\u001B[39m\u001B[38;5;124mquicksort\u001B[39m\u001B[38;5;124m'\u001B[39m)\n",
      "\u001B[1;31mValueError\u001B[0m: The truth value of an array with more than one element is ambiguous. Use a.any() or a.all()"
     ]
    }
   ],
   "source": [
    "import numpy as np\n",
    "\n",
    "P = np.array([[0.94000867, 3.32835045, 0.],\n",
    "              [0.75072613, 5.06752798, 1.],\n",
    "              [0.86161495, 2.29700319, 2.],\n",
    "              [0.02629283, 9.23118858, 3.],\n",
    "              [0.43248257, 6.16670381, 4.]])\n",
    "\n",
    "ND = np.array([[0.02629283, 9.23118858, 3.],\n",
    "               [0.43248257, 6.16670381, 4.],\n",
    "               [0.86161495, 2.29700319, 2.]])\n",
    "\n",
    "P = np.unique(P, ND)\n",
    "P"
   ],
   "metadata": {
    "collapsed": false
   }
  },
  {
   "cell_type": "code",
   "execution_count": 38,
   "outputs": [
    {
     "name": "stdout",
     "output_type": "stream",
     "text": [
      "Minimum values: [1 4 6]\n",
      "Indices of minimum values: [1 1 1]\n",
      "Minimum values for I: [nan nan nan]\n",
      "Indices of minimum values for I: [nan nan nan]\n"
     ]
    }
   ],
   "source": [
    "import numpy as np\n",
    "\n",
    "# example Population.f array\n",
    "Population_f = np.array([[2, 5, 7], [1, 4, 6], [3, 9, 8]])\n",
    "\n",
    "# example I list\n",
    "I = []\n",
    "\n",
    "# finding the minimum value and index of Population.f along the first axis\n",
    "min_val = np.min(Population_f, axis=0)\n",
    "min_idx = np.argmin(Population_f, axis=0)\n",
    "\n",
    "# finding the minimum value and index of Population.f along the first axis for elements with indices in I\n",
    "if I:\n",
    "    min_val_I = np.min(Population_f[I, :], axis=0)\n",
    "    min_idx_I = np.argmin(Population_f[I, :], axis=0)\n",
    "else:\n",
    "    min_val_I = np.empty((Population_f.shape[1],))\n",
    "    min_val_I[:] = np.nan\n",
    "    min_idx_I = np.empty((Population_f.shape[1],))\n",
    "    min_idx_I[:] = np.nan\n",
    "\n",
    "# printing the output\n",
    "print(\"Minimum values:\", min_val)\n",
    "print(\"Indices of minimum values:\", min_idx)\n",
    "print(\"Minimum values for I:\", min_val_I)\n",
    "print(\"Indices of minimum values for I:\", min_idx_I)\n"
   ],
   "metadata": {
    "collapsed": false
   }
  },
  {
   "cell_type": "code",
   "execution_count": 7,
   "outputs": [],
   "source": [
    "t=2\n",
    "def f():\n",
    "    for i in range(0):\n",
    "        print(i)\n",
    "f()"
   ],
   "metadata": {
    "collapsed": false
   }
  },
  {
   "cell_type": "code",
   "execution_count": 40,
   "outputs": [
    {
     "data": {
      "text/plain": "0.6984136006477513"
     },
     "execution_count": 40,
     "metadata": {},
     "output_type": "execute_result"
    }
   ],
   "source": [
    "import numpy as np\n",
    "np.random.rand()"
   ],
   "metadata": {
    "collapsed": false
   }
  },
  {
   "cell_type": "code",
   "execution_count": 42,
   "outputs": [
    {
     "name": "stdout",
     "output_type": "stream",
     "text": [
      "[[1]\n",
      " [2]\n",
      " [3]]\n",
      "(3, 1)\n",
      "[[1 2 3]]\n",
      "(1, 3)\n"
     ]
    }
   ],
   "source": [
    "import numpy as np\n",
    "\n",
    "# create a 2D array with one column\n",
    "a = np.array([[1], [2], [3]])\n",
    "print(a)\n",
    "\n",
    "# print the shape of the original array\n",
    "print(a.shape)  # prints (3, 1)\n",
    "\n",
    "# transpose the array to turn the column into a row\n",
    "b = np.transpose(a)\n",
    "print(b)\n",
    "# print the shape of the new array\n",
    "print(b.shape)  # prints (1, 3)\n"
   ],
   "metadata": {
    "collapsed": false
   }
  }
 ],
 "metadata": {
  "kernelspec": {
   "display_name": "Python 3",
   "language": "python",
   "name": "python3"
  },
  "language_info": {
   "codemirror_mode": {
    "name": "ipython",
    "version": 2
   },
   "file_extension": ".py",
   "mimetype": "text/x-python",
   "name": "python",
   "nbconvert_exporter": "python",
   "pygments_lexer": "ipython2",
   "version": "2.7.6"
  }
 },
 "nbformat": 4,
 "nbformat_minor": 0
}
